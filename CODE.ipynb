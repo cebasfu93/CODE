{
 "cells": [
  {
   "cell_type": "markdown",
   "metadata": {
    "collapsed": true
   },
   "source": [
    "# CODE 2.0: Code for Optimizing Docking Enrichments"
   ]
  },
  {
   "cell_type": "code",
   "execution_count": 1,
   "metadata": {
    "collapsed": false,
    "slideshow": {
     "slide_type": "-"
    }
   },
   "outputs": [
    {
     "name": "stdout",
     "output_type": "stream",
     "text": [
      "Populating the interactive namespace from numpy and matplotlib\n"
     ]
    }
   ],
   "source": [
    "######Importa los paquetes necesarios\n",
    "%pylab inline\n",
    "import csv\n",
    "import os\n",
    "import random\n",
    "from scipy.interpolate import interp1d\n",
    "from scipy.optimize import curve_fit\n",
    "from scipy import optimize\n",
    "from scipy import stats\n",
    "from __future__ import division\n",
    "import pdb\n",
    "import time\n",
    "import sys\n",
    "import shutil\n",
    "\n",
    "#set_printoptions(hold='nan')\n",
    "#rc('text', usetex=True, fontsize=20)\n",
    "ResultsDatabase=genfromtxt('IteracTemp.csv', delimiter=',') #[[0,0]]\n",
    "ndxchg=0"
   ]
  },
  {
   "cell_type": "code",
   "execution_count": 2,
   "metadata": {
    "collapsed": false,
    "scrolled": true
   },
   "outputs": [],
   "source": [
    "Nombre='IteracTemp'\n",
    "inputfile='Input.csv' \n",
    "\n",
    "numParam=3\n",
    "mayomen=[]\n",
    "\n",
    "for i in range(0, numParam):\n",
    "    mayomen.append(-1)\n",
    "#mayomen=[-1,-1,-1,-1,-1,-1] #-1 si entre menor mejor y 1 si entre mayor mejor\n",
    "\n",
    "numTrainMol=105\n",
    "semilla=666\n",
    "thresAct=1 #Por debajo (o igual) a este valor se considera el compuesto activo\n",
    "\n",
    "coluAct=2\n",
    "coluMIC=3\n",
    "coluMICcal=4\n",
    "\n",
    "iterac=500\n",
    "aviso=50\n",
    "\n",
    "pesot=5\n",
    "thresComp=25\n",
    "descrp=0\n",
    "ndxchg=0\n",
    "\n",
    "#iterac2=100\n",
    "#########################################################################################################################\n",
    "\n",
    "#if os.path.exists(Nombre)==True:\n",
    "#    sys.exit(\"There is already a job with the same name. Please change it. I will not override it to then see you mad at me.\")\n",
    "##if os.path.exists(Nombre)==False:\n",
    "#    os.mkdir(Nombre)\n",
    "\n",
    "shutil.copy(inputfile, Nombre)\n",
    "os.rename(Nombre+'/'+inputfile, Nombre+'/'+Nombre+'In.csv' )\n",
    "Datos=genfromtxt(Nombre + '/'+Nombre+'In.csv', delimiter=',', skip_header=1) "
   ]
  },
  {
   "cell_type": "code",
   "execution_count": 3,
   "metadata": {
    "collapsed": false
   },
   "outputs": [],
   "source": [
    "def arreglar(array):\n",
    "    \n",
    "    ignorar=len(array[0,:])-numParam-1\n",
    "    \n",
    "    for j in range (0, numParam):\n",
    "        norm=0\n",
    "        colu=ignorar+j\n",
    "        minimo=min(array[:,colu])\n",
    "        maximo=max(array[:,colu])\n",
    "        \n",
    "        if mayomen[j]==-1:\n",
    "            for k in range(0, len(array[:,colu])):\n",
    "                array[k,colu]=array[k,colu]-maximo\n",
    "            norm=min(array[:,colu])\n",
    "            for l in range(0, len(array[:,colu])):\n",
    "                array[l,colu]=array[l,colu]/norm\n",
    "                \n",
    "        if mayomen[j]==1:\n",
    "            for m in range(0, len(array[:, colu])):\n",
    "                array[m, colu]=array[m,colu]-minimo\n",
    "            norm=max(array[:,colu])\n",
    "            for n in range(0, len(array[:,colu])):\n",
    "                array[n, colu]=array[n, colu]/norm \n",
    "    \n",
    "    for o in range(0,len(array[:,0])):\n",
    "        if (array[o, coluMIC]<=thresAct):\n",
    "            array[o,coluAct]=1\n",
    "        if (array[o, coluMIC]>thresAct):\n",
    "            array[o,coluAct]=2\n",
    "    return array"
   ]
  },
  {
   "cell_type": "code",
   "execution_count": 4,
   "metadata": {
    "collapsed": false
   },
   "outputs": [],
   "source": [
    "filasTrain=[]\n",
    "TrainSet=zeros((numTrainMol, len(Datos[0,:])))\n",
    "filasTest=[]\n",
    "TestSet=zeros((len(Datos[:,0])-numTrainMol,len(Datos[0,:])))\n",
    "\n",
    "DatosArreg=arreglar(Datos)\n",
    "\n",
    "random.seed(semilla)\n",
    "filasTrain=random.sample(range(len(DatosArreg[:,0])), numTrainMol)\n",
    "    \n",
    "ndx=0\n",
    "for j in range(0, len(DatosArreg[:,0])):\n",
    "    if ((j in filasTrain)==True):\n",
    "        TrainSet[ndx,:]=DatosArreg[j,:]\n",
    "        ndx+=1   \n",
    "\n",
    "        \n",
    "for i in range(0, len(DatosArreg[:,0])):\n",
    "    if ((i in filasTrain)==False):\n",
    "        filasTest.append(i)\n",
    "\n",
    "ndx=0\n",
    "for k in range(0, len(DatosArreg[:,0])):\n",
    "    if ((k in filasTest)==True):\n",
    "        TestSet[ndx,:]=DatosArreg[k,:]\n",
    "        ndx += 1"
   ]
  },
  {
   "cell_type": "code",
   "execution_count": 5,
   "metadata": {
    "collapsed": false
   },
   "outputs": [],
   "source": [
    "def Ordenador(array, numcol):\n",
    "    \n",
    "    Ordered=array[array[:,numcol].argsort()]\n",
    "    \n",
    "    return Ordered"
   ]
  },
  {
   "cell_type": "code",
   "execution_count": 6,
   "metadata": {
    "collapsed": false
   },
   "outputs": [],
   "source": [
    "def CODEfunc(array, param):\n",
    "    \n",
    "    igncol=len(array[0,:])-len(param)-1\n",
    "    \n",
    "    for i in range(0,len(array[:,0])):\n",
    "        CODE=0\n",
    "        for j in range(0, len(param)):\n",
    "            CODE += param[j]*array[i,j+igncol]\n",
    "        array[i, len(array[0,:])-1]=CODE\n",
    "        \n",
    "    return array"
   ]
  },
  {
   "cell_type": "code",
   "execution_count": 7,
   "metadata": {
    "collapsed": false
   },
   "outputs": [],
   "source": [
    "def ultimatum(coefi):\n",
    "    \n",
    "    rultimatum=0\n",
    "    codearray=CODEfunc(TrainSet, coefi)\n",
    "    datregre1=stats.linregress(codearray[:, len(codearray[0,:])-1], codearray[:, coluMIC])\n",
    "    \n",
    "    rultimatum=datregre1[2]\n",
    "    \n",
    "    return rultimatum**2*-1"
   ]
  },
  {
   "cell_type": "code",
   "execution_count": 8,
   "metadata": {
    "collapsed": false
   },
   "outputs": [],
   "source": [
    "def minimizacion(itera):\n",
    "    \n",
    "    sem=semilla\n",
    "    val=[]\n",
    "    minglob=0\n",
    "    minloc=0\n",
    "    \n",
    "    for i in range (0, itera):\n",
    "        \n",
    "        ndx=0\n",
    "        guess=[]\n",
    "        \n",
    "        for j in range(0, numParam):\n",
    "            sem+=1\n",
    "            random.seed(sem)\n",
    "            guess.append(random.random()*200-100)\n",
    "            \n",
    "        res=optimize.minimize(ultimatum, guess, method='Nelder-mead')#, options={'disp':True})\n",
    "        minloc=ultimatum(res.x)\n",
    "        \n",
    "        if (i%aviso==0):\n",
    "            print i\n",
    "            \n",
    "        if (minloc<minglob):\n",
    "            for k in range(0, numParam):\n",
    "                if (res.x[k]>100 or res.x[k]<-100):\n",
    "                    ndx=1\n",
    "            if (ndx==0):\n",
    "                print 'A new global minimum was found on step ' + str(i)\n",
    "                minglob=minloc\n",
    "                val=res.x\n",
    "    return val"
   ]
  },
  {
   "cell_type": "code",
   "execution_count": 9,
   "metadata": {
    "collapsed": false
   },
   "outputs": [],
   "source": [
    "def calibracion(coefi):\n",
    "    codearray=CODEfunc(TrainSet, coefi)\n",
    "    calibracion=stats.linregress(codearray[:, len(codearray[0,:])-1], codearray[:, coluMIC])\n",
    "    return calibracion"
   ]
  },
  {
   "cell_type": "code",
   "execution_count": 10,
   "metadata": {
    "collapsed": true
   },
   "outputs": [],
   "source": [
    "def MICcal(array, param):\n",
    "    \n",
    "    codearray=CODEfunc(array, param)\n",
    "    \n",
    "    for i in range(0, len(codearray[:,0])):\n",
    "        codearray[i, coluMICcal]= codearray[i, len(codearray[0,:])-1]*datcali[0]+datcali[1]\n",
    "        \n",
    "    return codearray"
   ]
  },
  {
   "cell_type": "code",
   "execution_count": 11,
   "metadata": {
    "collapsed": true
   },
   "outputs": [],
   "source": [
    "#Devuelve un array 1 x n con el porcentaje de compuestos screened que se tienen a medida que\n",
    "#se recorre un compuesto en 'arrayord' a la vez. 'arrayord' no tiene que estar ordenado.\n",
    "def CompScreened(arrayord):\n",
    "    \n",
    "    comptot = len(arrayord[:,0])\n",
    "    compscreen=[]\n",
    "    index=1\n",
    "    \n",
    "    for i in range(0, len(arrayord[:, 0])):\n",
    "        comppercent = index/comptot * 100\n",
    "        compscreen.append(comppercent)\n",
    "        index += 1\n",
    "        \n",
    "    return compscreen"
   ]
  },
  {
   "cell_type": "code",
   "execution_count": 12,
   "metadata": {
    "collapsed": true
   },
   "outputs": [],
   "source": [
    "def ActScreened(array, numcol):\n",
    "    \n",
    "    arrayord=Ordenador(array, numcol)\n",
    "    acttot=0\n",
    "    actfound=0\n",
    "    actscreen=[]\n",
    "    \n",
    "    for h in range(0, len(arrayord[:,0])):\n",
    "        if (arrayord[h,coluAct] == 1): #Aca se busca el 1 en la columna 'actcol'\n",
    "            acttot += 1\n",
    "            \n",
    "    for i in range(0, len(arrayord[:,0])):\n",
    "        if (arrayord[i, coluAct] == 1):\n",
    "            actfound += 1\n",
    "        actpercent = actfound/acttot * 100\n",
    "        actscreen.append(actpercent)\n",
    "        \n",
    "    return actscreen"
   ]
  },
  {
   "cell_type": "code",
   "execution_count": 13,
   "metadata": {
    "collapsed": false
   },
   "outputs": [],
   "source": [
    "#Calcula la pendiente promedio de la curva de enriquecimiento obtenida a partir del array ya\n",
    "#ordenado segun lo que se quiera, 'arrayord'. Llama a Actscreened entonces necesita saber donde\n",
    "#esta la columna de actividad booleana 'actcol'\n",
    "def pendfunc(array, numcol):\n",
    "    \n",
    "    compscreen=CompScreened(array)\n",
    "    actscreen=ActScreened(array, numcol)\n",
    "    val=0\n",
    "    pend=[]\n",
    "    \n",
    "    for i in range(0, len(compscreen)-1):\n",
    "        if actscreen[i]<100:\n",
    "            val=(actscreen[i+1]-actscreen[i])/(compscreen[i+1]-compscreen[i])\n",
    "            pend.append(val)\n",
    "            if compscreen[i]<=thresComp:\n",
    "                for j in range(0, pesot):\n",
    "                    pend.append(val)\n",
    "                    \n",
    "    pendiente=average(pend)\n",
    "    \n",
    "    return pendiente*-1 #Devuelve el negativo para que toque minimizar, no maximizar"
   ]
  },
  {
   "cell_type": "code",
   "execution_count": 14,
   "metadata": {
    "collapsed": true
   },
   "outputs": [],
   "source": [
    "def rCODE(array, param):\n",
    "    \n",
    "    CODEarray=CODEfunc(array, param)\n",
    "    actual=pendfunc(CODEarray, len(CODEarray[0,:])-1)\n",
    "    ideal=pendfunc(array, coluAct)\n",
    "    rcode = actual/ideal\n",
    "    \n",
    "    return rcode"
   ]
  },
  {
   "cell_type": "code",
   "execution_count": 15,
   "metadata": {
    "collapsed": true
   },
   "outputs": [],
   "source": [
    "def Enrique(param):\n",
    "    \n",
    "    CODEarray=CODEfunc(DatosArreg, param)\n",
    "    Orderedarray=Ordenador(CODEarray, len(CODEarray[0,:])-1)\n",
    "    final=pendfunc(Orderedarray, len(Orderedarray[0,:])-1)\n",
    "    \n",
    "    return final"
   ]
  },
  {
   "cell_type": "code",
   "execution_count": 16,
   "metadata": {
    "collapsed": true
   },
   "outputs": [],
   "source": [
    "def minimizacion2(itera):\n",
    "    descrp=2\n",
    "    sem=semilla\n",
    "    val=[]\n",
    "    minglob=0\n",
    "    minloc=0\n",
    "    \n",
    "    for i in range (0, itera):\n",
    "        ndx=0\n",
    "        guess=[]\n",
    "        sem+=1\n",
    "        for j in range(0, numParam):\n",
    "            sem+=1\n",
    "            random.seed(sem)\n",
    "            guess.append(random.random()*2-1)\n",
    "        \n",
    "        res=optimize.minimize(Enrique, guess, method='Nelder-mead')#, options={'disp':True})\n",
    "        minloc=Enrique(res.x)\n",
    "        \n",
    "        if (i%aviso==0):\n",
    "            print i\n",
    "        if (minloc<minglob):\n",
    "            for k in range(0, numParam):\n",
    "                if (res.x[k]>1 or res.x[k]<-1):\n",
    "                    ndx=1\n",
    "            if (ndx==0):\n",
    "                print 'A new global minimum was found on step ' + str(i)\n",
    "                minglob=minloc\n",
    "                val=res.x\n",
    "    return val"
   ]
  },
  {
   "cell_type": "code",
   "execution_count": 17,
   "metadata": {
    "collapsed": false
   },
   "outputs": [],
   "source": [
    "def rescali(path):\n",
    "    \n",
    "    print 'The best parameters for reproducing the reported inhibition values are: ' + str(coef)\n",
    "    print ''\n",
    "    print 'With these parameters an r^2 of ' + str(datcali[2]**2) + ' is obtained for the calibration curve between the CODE function and the reported activities'\n",
    "    print ' '\n",
    "    print 'The equation of this line is: y = ' + str(datcali[0]) + 'x + ' + str(datcali[1])\n",
    "    figure(figsize=(8,8)) ; hold(True)\n",
    "    plot(Traincali[:, len(Traincali[0,:])-1], Traincali[:, coluMIC], 'bo', ms=5, label=r'Training Set')\n",
    "    p=arange(min(Traincali[:, len(Traincali[0,:])-1]), max(Traincali[:, len(Traincali[0,:])-1]), 0.01)\n",
    "    lin=p*datcali[0]+datcali[1]\n",
    "    plot(p, lin, 'k-', lw=2, label=r'Calibration Curve')\n",
    "    title(r'Theoretical MIC vs calculated MIC for the Training Set', fontsize=15)\n",
    "    xlabel(r'CODE function', fontsize=15)\n",
    "    ylabel(r'Reported MIC ($\\mu g / mL$)', fontsize=15)        \n",
    "    legend(fontsize=13, loc=2)\n",
    "    #xlim((min(Traincali[:, len(Traincali[0,:])-1])-10,max(Traincali[:, len(Traincali[0,:])-1])+10))\n",
    "    grid()    \n",
    "    savefig(path + '/' + Nombre + '-TrainSet.pdf')\n",
    "    show()"
   ]
  },
  {
   "cell_type": "code",
   "execution_count": 18,
   "metadata": {
    "collapsed": false
   },
   "outputs": [],
   "source": [
    "def restest(path):\n",
    "    print ''\n",
    "    print ''\n",
    "    print 'With the best coeficients an r^2 of ' + str(datrepcal[2]**2) + ' is obtained between the calculated and the reported MIC for the Test Set'\n",
    "    print ''\n",
    "    print 'The equation of this line is: y = ' + str(datrepcal[0]) + 'x + ' + str(datrepcal[1])\n",
    "    figure(figsize=(8,8)) ; hold(True)\n",
    "    plot(testfinal[:, coluMICcal], testfinal[:, coluMIC], 'mo', ms=6, label=r'Test Set')\n",
    "    p=arange(min(testfinal[:, coluMICcal]), max(testfinal[:, coluMICcal]), 0.01)\n",
    "    lin=p*datrepcal[0]+datrepcal[1]\n",
    "    plot(p, lin, 'k-', lw=2, label=r'Fitting Curve')\n",
    "    title(r'Theoretical MIC vs calculated MIC for the Test Set', fontsize=15)\n",
    "    xlabel(r'Calculated MIC ($\\mu g / mL$)', fontsize=15)\n",
    "    ylabel(r'Reported MIC ($\\mu g / mL$)', fontsize=15)        \n",
    "    legend(fontsize=13, loc=2)\n",
    "    xlim((min(testfinal[:, coluMICcal])-0.5,max(testfinal[:, coluMICcal])+0.5))\n",
    "    ylim((min(testfinal[:, coluMIC])-2,max(testfinal[:, coluMIC])+2))\n",
    "    grid() \n",
    "    savefig(path + '/' + Nombre + '-TestSet.pdf')\n",
    "    show()\n",
    "    print \"\""
   ]
  },
  {
   "cell_type": "code",
   "execution_count": 19,
   "metadata": {
    "collapsed": false
   },
   "outputs": [],
   "source": [
    "def resenrique(coefi, path):\n",
    "    print ''\n",
    "    print ''\n",
    "    print 'Con los mejores parametros se obtiene una pendiente ponderada en la curva de enriquecimiento de: ' + str(-1*pendfunc(CODEfunc(DatosArreg, coefi), len(DatosArreg[0,:])-1))\n",
    "    print ''\n",
    "    print 'Con los mejores parametros se obtiene un valor r-CODE de: ' + str(rCODE(DatosArreg, coefi))\n",
    "    print ''\n",
    "    print 'Recuerde que r-CODE puede tomar valores entre 1.0 (Ideal) y ' + str(-1/pendfunc(DatosArreg, coluAct)) + ' (Aleatorio) '\n",
    "    \n",
    "    figure(figsize=(8,8)); hold(True)\n",
    "    p=arange(0,101,1)\n",
    "    lin=p\n",
    "    plot(p,lin, 'k-', lw=1, label=r'Random Ranking')\n",
    "\n",
    "    plot(CompScreened(DatosArreg), ActScreened(CODEfunc(DatosArreg, coefi), len(DatosArreg[0,:])-1), 'b-', lw=1, label=r'CODE weight function')\n",
    "    plot(CompScreened(DatosArreg), ActScreened(CODEfunc(DatosArreg, coefi), coluAct), 'm-', lw=1, label=r'Ideal Behaviour')\n",
    "\n",
    "    title(r'Enrichment Curve: CODE weight function', fontsize=15)\n",
    "    xlabel(r'Screened Compounds (%)', fontsize=15)\n",
    "    ylabel(r'Active Compounds Found (%)', fontsize=15)\n",
    "    legend(fontsize=13, loc=2)\n",
    "    grid()\n",
    "    savefig(path + '/' + Nombre + '-Enrich.pdf')\n",
    "    show()"
   ]
  },
  {
   "cell_type": "code",
   "execution_count": 20,
   "metadata": {
    "collapsed": false,
    "scrolled": true
   },
   "outputs": [],
   "source": [
    "def escresultados(coefi, path):\n",
    "    arch = open(path + '/' + Nombre + '.log', \"a\")\n",
    "    \n",
    "    arch.write('Job name: ' + Nombre)\n",
    "    arch.write('\\n Starting time: ' + str(start_mom))\n",
    "    arch.write('\\n Input file: ' + inputfile)\n",
    "    arch.write('\\n Number of parameters: ' + str(numParam))\n",
    "    arch.write('\\n MAYOMEN array: ' + str(mayomen))\n",
    "    arch.write('\\n Number of molecules in the Training Set: ' + str(numTrainMol))\n",
    "    arch.write('\\n Number of molecules in the Test Set: ' + str(len(DatosArreg[:,0])-numTrainMol))\n",
    "    arch.write('\\n Total molecules imported: ' + str(len(DatosArreg[:,0])))\n",
    "    arch.write('\\n Random seed: ' + str(semilla))\n",
    "    arch.write('\\n Activity Threshold: ' + str(thresAct))\n",
    "    arch.write('\\n Boolean activity set to column: ' + str(coluAct))\n",
    "    arch.write('\\n Numeric activity value taken from column: ' + str(coluMIC))\n",
    "    arch.write('\\n Calculated activity values set in column: ' + str(coluMICcal))\n",
    "    arch.write('\\n Iteration step shown every: ' + str(aviso))\n",
    "    arch.write('\\n Number of iterations: ' + str(iterac))\n",
    "    arch.write('\\n Slope extra weight: ' + str(pesot))\n",
    "    arch.write('\\n Percentage of screened compounds that receive the slope extra weight: ' + str(thresComp))\n",
    "    arch.write('\\n Finish time: ' + str(finish_mom))\n",
    "    arch.write('\\n Running time (s): ' + str(abs(time.time()-start_time)))\n",
    "    \n",
    "    arch.write('\\n \\n The best parameters found were: ' + str(coef))\n",
    "    arch.write('\\n \\n The calibration curve had an r^2 of: ' + str(datcali[2]**2))\n",
    "    arch.write('The equation of this line is: y = ' + str(datcali[0]) + 'x + ' + str(datcali[1]))\n",
    "    arch.write('\\n \\n With the best coeficients an r^2 of ' + str(datrepcal[2]**2) + ' is obtained between the calculated and the reported MIC for the Test Set')\n",
    "    arch.write('\\n The equation of this line is: y = ' + str(datrepcal[0]) + 'x + ' + str(datrepcal[1]))\n",
    "     \n",
    "    arch.write('\\n \\n With the best parameters, the enrichment curve has a weighted slope of: ' + str(-1*pendfunc(CODEfunc(DatosArreg, coefi), len(DatosArreg[0,:])-1)))\n",
    "    arch.write('\\n With the best parameters, the r-CODE value of the enrichment curve is: ' + str(rCODE(DatosArreg, coefi)))\n",
    "    arch.write('\\n Remember that the r-CODE value can take calues between 1.0 (ideal) and ' + str(-1/pendfunc(DatosArreg, coluAct)) + ' (random) ')\n",
    "    \n",
    "    if descrp==1:\n",
    "        arch.write('\\n \\n Job description: In this job CODE was used to predict activity values')\n",
    "    if descrp==2:\n",
    "        arch.write('\\n \\n Job description: In this job CODE was used to maximize the weighted slope of the enrichment curve')\n",
    "        \n",
    "    if ndxchg==1:\n",
    "        arch.write('\\n \\n ¡¡¡¡¡The signs of the coefficients were inverted!!!!!')\n",
    "        \n",
    "    arch.close()\n",
    "    \n",
    "    msj='Toda la informacion de este calculo se salvo en la carpeta: ' + Nombre\n",
    "    print msj"
   ]
  },
  {
   "cell_type": "code",
   "execution_count": 22,
   "metadata": {
    "collapsed": false,
    "scrolled": true
   },
   "outputs": [
    {
     "name": "stdout",
     "output_type": "stream",
     "text": [
      "0\n",
      "A new global minimum was found on step 0\n",
      "A new global minimum was found on step 2\n",
      "A new global minimum was found on step 36\n",
      "A new global minimum was found on step 1288\n",
      "8192\n",
      "16384\n",
      "24576\n",
      "32768\n",
      "40960\n",
      "49152\n",
      "57344\n",
      "65536\n",
      "73728\n",
      "The best parameters for reproducing the reported inhibition values are: [  2.3360308  -16.09950044 -74.19633542]\n",
      "\n",
      "With these parameters an r^2 of 0.149289792342 is obtained for the calibration curve between the CODE function and the reported activities\n",
      " \n",
      "The equation of this line is: y = 0.228903114775x + 16.7113577876\n"
     ]
    },
    {
     "data": {
      "image/png": "[encoded data removed]",
      "text/plain": [
       "<matplotlib.figure.Figure at 0x103948950>"
      ]
     },
     "metadata": {},
     "output_type": "display_data"
    },
    {
     "name": "stdout",
     "output_type": "stream",
     "text": [
      "\n",
      "\n",
      "With the best coeficients an r^2 of 0.0532293968458 is obtained between the calculated and the reported MIC for the Test Set\n",
      "\n",
      "The equation of this line is: y = 0.877583763385x + 0.869350363673\n"
     ]
    },
    {
     "data": {
      "image/png": "[encoded data removed]",
      "text/plain": [
       "<matplotlib.figure.Figure at 0x106d4d050>"
      ]
     },
     "metadata": {},
     "output_type": "display_data"
    },
    {
     "name": "stdout",
     "output_type": "stream",
     "text": [
      "\n",
      "\n",
      "\n",
      "Con los mejores parametros se obtiene una pendiente ponderada en la curva de enriquecimiento de: 1.08745817469\n",
      "\n",
      "Con los mejores parametros se obtiene un valor r-CODE de: 0.607476635514\n",
      "\n",
      "Recuerde que r-CODE puede tomar valores entre 1.0 (Ideal) y 0.558620689655 (Aleatorio) \n"
     ]
    },
    {
     "data": {
      "image/png": "[encoded data removed]",
      "text/plain": [
       "<matplotlib.figure.Figure at 0x106aa3a90>"
      ]
     },
     "metadata": {},
     "output_type": "display_data"
    },
    {
     "name": "stdout",
     "output_type": "stream",
     "text": [
      "--- 23476.584888 segundos ---\n",
      "Toda la informacion de este calculo se salvo en la carpeta: IteracTemp\n"
     ]
    }
   ],
   "source": [
    "iterac=81920\n",
    "for i in range(0, 1):\n",
    "    aviso=int(iterac/10)\n",
    "\n",
    "    start_mom=time.strftime(\"%c\")\n",
    "    start_time = time.time()  \n",
    "\n",
    "    coef=minimizacion(iterac); descrp=1\n",
    "    if (calibracion(coef)[0]<0):\n",
    "        coef[:]=coef[:]*-1\n",
    "        ndxchg=1\n",
    "\n",
    "    def datrepcal(array):\n",
    "        reporcalcu=stats.linregress(array[:, coluMICcal], array[:, coluMIC])\n",
    "        return reporcalcu\n",
    "\n",
    "    datcali=calibracion(coef)\n",
    "    Traincali=CODEfunc(TrainSet, coef)\n",
    "    rescali(Nombre)\n",
    "    testfinal=MICcal(TestSet, coef)\n",
    "    datrepcal=datrepcal(testfinal)\n",
    "    restest(Nombre)\n",
    "    resenrique(coef, Nombre)\n",
    "\n",
    "#coef2=minimizacion2(1); descrp=2\n",
    "#resenrique(coef)\n",
    "\n",
    "    finish_mom=time.strftime(\"%c\")\n",
    "    finish_time=time.time()\n",
    "\n",
    "    print(\"--- %s segundos ---\" % abs((finish_time - start_time)))\n",
    "    escresultados(coef, Nombre)\n",
    "\n",
    "    resulTemp=[[iterac, finish_time - start_time]]#[[count, numParam, iterac, finish_time - start_time, datcali[2]**2, datrepcal[2]**2, datrepcal[0], -1*pendfunc(CODEfunc(DatosArreg, coef), len(DatosArreg[0,:])-1), rCODE(DatosArreg, coef)]]\n",
    "\n",
    "    ResultsDatabase=append(ResultsDatabase, resulTemp, axis=0)\n",
    "\n",
    "    savetxt('IteracTemp.csv', ResultsDatabase, delimiter=',', newline='\\n')\n",
    "    ndxchg=0\n",
    "    iterac=iterac*2"
   ]
  },
  {
   "cell_type": "code",
   "execution_count": null,
   "metadata": {
    "collapsed": true
   },
   "outputs": [],
   "source": []
  }
 ],
 "metadata": {
  "kernelspec": {
   "display_name": "Python 2",
   "language": "python",
   "name": "python2"
  },
  "language_info": {
   "codemirror_mode": {
    "name": "ipython",
    "version": 2
   },
   "file_extension": ".py",
   "mimetype": "text/x-python",
   "name": "python",
   "nbconvert_exporter": "python",
   "pygments_lexer": "ipython2",
   "version": "2.7.11"
  }
 },
 "nbformat": 4,
 "nbformat_minor": 0
}
