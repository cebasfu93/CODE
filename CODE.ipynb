{
 "cells": [
  {
   "cell_type": "markdown",
   "metadata": {
    "collapsed": true
   },
   "source": [
    "# CODE: Code for Optimizing Docking Enrichments"
   ]
  },
  {
   "cell_type": "code",
   "execution_count": 1,
   "metadata": {
    "collapsed": false,
    "slideshow": {
     "slide_type": "-"
    }
   },
   "outputs": [],
   "source": [
    "#Importa los paquetes necesarios\n",
    "from __future__ import division\n",
    "from pylab import *\n",
    "import csv, os, random, sys, shutil, time\n",
    "from emcee_code import emcee_code_function, modelo\n",
    "from optparse import OptionParser\n",
    "from scipy import stats\n",
    "from optparse import OptionParser\n",
    "import numpy\n",
    "numpy.set_printoptions(threshold=numpy.nan)\n",
    "\n",
    "parser=OptionParser()\n",
    "tamano=14"
   ]
  },
  {
   "cell_type": "code",
   "execution_count": 2,
   "metadata": {
    "collapsed": true
   },
   "outputs": [],
   "source": [
    "parser.add_option(\"-i\",\"--input\", action=\"store\", type=\"string\", dest=\"InputFile\", help=\"Path of the .csv input file. Special requirements: The values of the last column will be overwriten. The columns previous to the last one must contain the parameters used for the fitting.\")\n",
    "parser.add_option(\"-j\",\"--jobname\", action=\"store\", type=\"string\", dest=\"Jobname\", help=\"Name of the job that is being run. No files or directories will ever be overwriten.\")\n",
    "parser.add_option(\"-n\", \"--param\", action=\"store\", type=\"int\", dest=\"NumParam\", help=\"Number of columns previous to the last one that will be considered as parameters for the MC fitting.\")\n",
    "parser.add_option(\"-t\", \"--train\", action=\"store\", type=\"int\", dest=\"NumTrainMol\", help=\"Number of random entries (rows) from the input file that will be considered as part of the training set. All the molecules that are not in the Training Set will be part of the Test Set.\")\n",
    "parser.add_option(\"-s\", \"--seed\", action=\"store\", type=\"int\", dest=\"RandomSeed\", help=\"Seed used for the semi-random selection of the entries used in the Training Set.\")\n",
    "parser.add_option(\"-d\", \"--threshold\", action=\"store\", type=\"int\", dest=\"Threshold\", help=\"Entries with an activity lower or equal than this value will be considered as active molecules.\")\n",
    "parser.add_option(\"-b\", \"--cboolean\", action=\"store\", type=\"int\", dest=\"BooleanActivity\", help=\"Number of the column (starting from 0) that is going to be overwritten depending on the numeric value of the activity (see option -th).\")\n",
    "parser.add_option(\"-a\", \"--cactivity\", action=\"store\", type=\"int\", dest=\"NumericActivity\", help=\"Number of the column (starting from 0) that contains the numeric activity of each entry.\")\n",
    "\n",
    "args_test=[\"-i\", \"Input.csv\", \"-j\", \"Test\", \"-n\", \"3\", \"-t\", \"105\", \"-s\", \"1\", \"-d\", \"1\", \"-b\", \"2\", \"-a\", \"3\"]\n",
    "(options, args) = parser.parse_args(args_test)"
   ]
  },
  {
   "cell_type": "code",
   "execution_count": 3,
   "metadata": {
    "collapsed": false,
    "scrolled": true
   },
   "outputs": [],
   "source": [
    "inputfile=options.InputFile\n",
    "Nombre=options.Jobname\n",
    "numParam=options.NumParam\n",
    "\n",
    "numTrainMol=options.NumTrainMol\n",
    "semilla=options.RandomSeed\n",
    "thresAct=options.Threshold #Por debajo (o igual) a este valor se considera el compuesto activo\n",
    "coluAct=options.BooleanActivity\n",
    "coluMIC=options.NumericActivity\n",
    "\n",
    "#########################################################################################################################\n",
    "start_mom = time.strftime(\"%c\")\n",
    "start_time = time.time()\n",
    "\n",
    "if os.path.exists(Nombre)==True:\n",
    "    sys.exit(\"There is already a job with the same name. Please change it. I will not override it to then see you mad at me.\")\n",
    "if os.path.exists(Nombre)==False:\n",
    "    os.mkdir(Nombre)\n",
    "\n",
    "mayomen=[]\n",
    "\n",
    "for i in range(0, numParam):\n",
    "    mayomen.append(-1)\n",
    "#mayomen=[-1,-1,-1,-1,-1,-1] #-1 si entre menor mejor y 1 si entre mayor mejor\n",
    "\n",
    "shutil.copy(inputfile, Nombre)\n",
    "os.rename(Nombre+'/'+inputfile, Nombre+'/'+Nombre+'_In.csv' )\n",
    "#ResultsDatabase=genfromtxt(inputfile, delimiter=',')\n",
    "Datos=genfromtxt(Nombre + '/'+Nombre+'_In.csv', delimiter=',', skip_header=1) "
   ]
  },
  {
   "cell_type": "code",
   "execution_count": 4,
   "metadata": {
    "collapsed": true
   },
   "outputs": [],
   "source": [
    "def arreglar(array):\n",
    "    \n",
    "    ignorar=len(array[0,:])-numParam-1\n",
    "    \n",
    "#Normaliza valores de las columnas    \n",
    "    for j in range (0, numParam):\n",
    "        norm=0\n",
    "        colu=ignorar+j\n",
    "        minimo=min(array[:,colu])\n",
    "        maximo=max(array[:,colu])\n",
    "        \n",
    "        if mayomen[j]==-1:\n",
    "            for k in range(0, len(array[:,colu])):\n",
    "                array[k,colu]=array[k,colu]-maximo\n",
    "            norm=min(array[:,colu])\n",
    "            for l in range(0, len(array[:,colu])):\n",
    "                array[l,colu]=array[l,colu]/norm\n",
    "                \n",
    "        if mayomen[j]==1:\n",
    "            for m in range(0, len(array[:, colu])):\n",
    "                array[m, colu]=array[m,colu]-minimo\n",
    "            norm=max(array[:,colu])\n",
    "            for n in range(0, len(array[:,colu])):\n",
    "                array[n, colu]=array[n, colu]/norm \n",
    "    \n",
    "#Asigna valor boolean a coluAct    \n",
    "    for o in range(0,len(array[:,0])):\n",
    "        if (array[o, coluMIC]<=thresAct):\n",
    "            array[o,coluAct]=1\n",
    "        if (array[o, coluMIC]>thresAct):\n",
    "            array[o,coluAct]=2\n",
    "    return array"
   ]
  },
  {
   "cell_type": "code",
   "execution_count": 5,
   "metadata": {
    "collapsed": false
   },
   "outputs": [],
   "source": [
    "#Arregla input\n",
    "DatosArreg=arreglar(Datos)\n",
    "\n",
    "#Asigna ciertas filas al training set\n",
    "filasTrain=[]\n",
    "TrainSet=zeros((numTrainMol, len(DatosArreg[0,:])))\n",
    "\n",
    "for i in range(len(DatosArreg[0,:])):\n",
    "    random.seed(semilla)\n",
    "    filasTrain=random.sample(range(len(DatosArreg[:,0])), numTrainMol)\n",
    "    \n",
    "ndx=0\n",
    "for j in range(0, len(DatosArreg[:,0])):\n",
    "    if ((j in filasTrain)==True):\n",
    "        TrainSet[ndx,:]=DatosArreg[j,:]\n",
    "        ndx+=1 \n",
    "\n",
    "#Asigna ciertas filas al test set\n",
    "filasTest=[]\n",
    "TestSet=zeros((len(Datos[:,0])-numTrainMol,len(Datos[0,:])))\n",
    "\n",
    "for i in range(0, len(DatosArreg[:,0])):\n",
    "    if ((i in filasTrain)==False):\n",
    "        filasTest.append(i)\n",
    "        \n",
    "ndx=0\n",
    "for k in range(0, len(DatosArreg[:,0])):\n",
    "    if ((k in filasTest)==True):\n",
    "        TestSet[ndx,:]=DatosArreg[k,:]\n",
    "        ndx += 1\n",
    "\n",
    "#Crea matriz con las propiedades a usar\n",
    "matriz_propiedades_train = TrainSet[:,len(TrainSet[0,:])-1-numParam:(len(TrainSet[0,:])-1)]\n",
    "matriz_propiedades_test = TestSet[:,len(TestSet[0,:])-1-numParam:(len(TestSet[0,:])-1)]\n",
    "matriz_propiedades = DatosArreg[:,len(DatosArreg[0,:])-1-numParam:(len(DatosArreg[0,:])-1)]\n",
    "\n",
    "#Crea arreglo con solo datos de actividad experimental\n",
    "mic_train = TrainSet[:,coluMIC]  \n",
    "mic_test = TestSet[:,coluMIC]  "
   ]
  },
  {
   "cell_type": "markdown",
   "metadata": {
    "collapsed": false
   },
   "source": [
    "## MonteCarlo"
   ]
  },
  {
   "cell_type": "code",
   "execution_count": 6,
   "metadata": {
    "collapsed": false,
    "scrolled": true
   },
   "outputs": [
    {
     "name": "stdout",
     "output_type": "stream",
     "text": [
      "Mean acceptance fraction: 0.646 (Should be between 0.25 and 0.5 approximately)\n",
      "Parameter = [16 50 84]\n",
      "('param1 = ', array([ 5.49460088,  5.93783894,  6.37528168]))\n",
      "('param2 = ', array([ 5.08730125,  5.72971552,  6.37997347]))\n",
      "('param3 = ', array([-3.08010785, -2.51329342, -1.92379455]))\n"
     ]
    }
   ],
   "source": [
    "parametros_emcee = emcee_code_function(matriz_propiedades_train, mic_train, semilla, Nombre)\n",
    "parametros_sin_error = parametros_emcee[:,1]"
   ]
  },
  {
   "cell_type": "markdown",
   "metadata": {},
   "source": [
    "## Graficas y regresiones"
   ]
  },
  {
   "cell_type": "code",
   "execution_count": 7,
   "metadata": {
    "collapsed": false
   },
   "outputs": [],
   "source": [
    "#Grafica la actividad predicha y experimental del Training Set en funcion de la entrada\n",
    "figure(figsize=(8,8)); hold=True\n",
    "plot(mic_train, label='Experimental')\n",
    "plot(modelo(matriz_propiedades_train, parametros_sin_error), label='Predicted')\n",
    "legend(fancybox=True, loc=2).get_frame().set_alpha(0.5)\n",
    "title('Activity for the input entries of the Training Set', fontsize=tamano)\n",
    "xlabel('Entry', fontsize=tamano)\n",
    "ylabel('Activity', fontsize=tamano)\n",
    "xlim(0,len(filasTrain))\n",
    "grid()\n",
    "savefig(Nombre + '/ActTrainSet.png')"
   ]
  },
  {
   "cell_type": "code",
   "execution_count": 8,
   "metadata": {
    "collapsed": false
   },
   "outputs": [],
   "source": [
    "regre_train = stats.linregress(mic_train, modelo(matriz_propiedades_train, parametros_sin_error))\n",
    "p_train=arange(min(mic_train), max(mic_train), 0.01)\n",
    "lin_train=p_train*regre_train[0]+ regre_train[1]\n",
    "#Grafica la actividad predicha y experimental del Training Set\n",
    "figure(figsize=(8,8)); hold=True\n",
    "plot(mic_train, modelo(matriz_propiedades_train, parametros_sin_error), 'bo', label='Test Set')\n",
    "plot(p_train, lin_train, 'k-', label='Linear Regression', lw=2)\n",
    "legend(fancybox=True, loc=2).get_frame().set_alpha(0.5)\n",
    "title('Experimental and Predicted Activity for the Training Set', fontsize=tamano)\n",
    "xlabel('Experimental', fontsize=tamano)\n",
    "ylabel('Predicted', fontsize=tamano)\n",
    "grid()\n",
    "savefig(Nombre + '/ActTrainSetPredExp.png')"
   ]
  },
  {
   "cell_type": "code",
   "execution_count": 9,
   "metadata": {
    "collapsed": false,
    "scrolled": false
   },
   "outputs": [],
   "source": [
    "#Grafica la actividad predicha y experimental del Test Set en funcion de la entrada\n",
    "figure(figsize=(8,8)); hold=True\n",
    "plot(mic_test, label='Experimental')\n",
    "plot(modelo(matriz_propiedades_test, parametros_sin_error), label='Predicted')\n",
    "legend(fancybox=True, loc=2).get_frame().set_alpha(0.5)\n",
    "title('Activity for the input entries of the Test Set', fontsize=tamano)\n",
    "xlabel('Entry', fontsize=tamano)\n",
    "ylabel('Activity', fontsize=tamano)\n",
    "xlim(0,len(filasTest)-1)\n",
    "grid()\n",
    "savefig(Nombre + '/ActTestSet.png')"
   ]
  },
  {
   "cell_type": "code",
   "execution_count": 10,
   "metadata": {
    "collapsed": false
   },
   "outputs": [],
   "source": [
    "regre_test = stats.linregress(mic_test, modelo(matriz_propiedades_test, parametros_sin_error))\n",
    "p_test=arange(min(mic_test), max(mic_test), 0.01)\n",
    "lin_test=p_test*regre_test[0]+ regre_test[1]\n",
    "#Grafica la actividad predicha y experimental del Test Set\n",
    "figure(figsize=(8,8)); hold=True\n",
    "plot(mic_test, modelo(matriz_propiedades_test, parametros_sin_error), 'mo', label='Test Set')\n",
    "plot(p_test, lin_test, 'k-', label='Linear Regression', lw=2)\n",
    "legend(fancybox=True, loc=2).get_frame().set_alpha(0.5)\n",
    "title('Experimental and Predicted Activity for the Test Set', fontsize=tamano)\n",
    "xlabel('Experimental', fontsize=tamano)\n",
    "ylabel('Predicted', fontsize=tamano)\n",
    "grid()\n",
    "savefig(Nombre + '/ActTestSetPredExp.png')"
   ]
  },
  {
   "cell_type": "markdown",
   "metadata": {},
   "source": [
    "## Enriquecimiento"
   ]
  },
  {
   "cell_type": "code",
   "execution_count": 11,
   "metadata": {
    "collapsed": false
   },
   "outputs": [],
   "source": [
    "#Agrega el valor de CODE un array\n",
    "def CODEfunc(array, params):\n",
    "    for i in range(0, len(array[:,0])):\n",
    "        for j in range(0, len(params)):\n",
    "            array[i,len(array[0,:])-1]+=params[j]*array[i,len(array[0,:])-1-len(params)+j]\n",
    "    return array\n",
    "\n",
    "#Ordena el array de menor a mayor segun los valores de numcol\n",
    "def Ordenador(array, numcol):\n",
    "    \n",
    "    Ordered=array[array[:,numcol].argsort()]\n",
    "    \n",
    "    return Ordered"
   ]
  },
  {
   "cell_type": "code",
   "execution_count": 12,
   "metadata": {
    "collapsed": false
   },
   "outputs": [],
   "source": [
    "#Define un nuevo array con la columna de code\n",
    "DatosArreg_code = CODEfunc(DatosArreg, parametros_sin_error)"
   ]
  },
  {
   "cell_type": "code",
   "execution_count": 13,
   "metadata": {
    "collapsed": false
   },
   "outputs": [],
   "source": [
    "#Crea array con la cantidad de compuestos screened en cada slot\n",
    "def CompScreened(arrayinp):\n",
    "    \n",
    "    compuestos_totales=len(arrayinp[:,0])\n",
    "    compuestos_screened=1\n",
    "    porcentaje_screened=zeros(compuestos_totales+1)\n",
    "    porcentaje_screened[0]=0\n",
    "    \n",
    "    for i in range(compuestos_totales):\n",
    "        nuevo_procentaje=(compuestos_screened/compuestos_totales)*100\n",
    "        compuestos_screened +=1\n",
    "        porcentaje_screened[i+1]=nuevo_procentaje\n",
    "        \n",
    "    return porcentaje_screened\n",
    "\n",
    "#Crea array con la cantidad de compuestos encontrados hasta cada slot\n",
    "def ActScreened(array, numcol):\n",
    "    \n",
    "    arrayord=Ordenador(array, numcol)\n",
    "    acttot=0\n",
    "    actfound=0\n",
    "    actscreen=zeros(len(array[:,0])+1)\n",
    "    actscreen[0]=0\n",
    "    \n",
    "    for h in range(0, len(arrayord[:,0])):\n",
    "        if (arrayord[h,coluAct] == 1): #Aca se busca el 1 en la columna 'actcol'\n",
    "            acttot += 1\n",
    "            \n",
    "    for i in range(0, len(arrayord[:,0])):\n",
    "        if (arrayord[i, coluAct] == 1):\n",
    "            actfound += 1\n",
    "        actpercent = actfound/acttot * 100\n",
    "        actscreen[i+1]=actpercent\n",
    "        \n",
    "    return actscreen"
   ]
  },
  {
   "cell_type": "code",
   "execution_count": 14,
   "metadata": {
    "collapsed": false,
    "scrolled": false
   },
   "outputs": [],
   "source": [
    "#Grafica curva de enriquecimiento ordenando segun valores de CODE\n",
    "figure(figsize=(8,8)); hold=True\n",
    "p=arange(0,101,1)\n",
    "lin=p\n",
    "plot(p,lin, 'k-', lw=1, label=r'Random Ranking')\n",
    "plot(CompScreened(DatosArreg_code), ActScreened(CODEfunc(DatosArreg_code, parametros_sin_error), len(DatosArreg_code[0,:])-1), 'b-', lw=1, label=r'CODE Scoring Function')\n",
    "plot(CompScreened(DatosArreg_code), ActScreened(CODEfunc(DatosArreg_code, parametros_sin_error), coluAct), 'm-', lw=1, label=r'Ideal Behaviour')\n",
    "title(r'Enrichment Curve: CODE scoring function', fontsize=tamano)\n",
    "xlabel(r'Screened Compounds (%)', fontsize=tamano)\n",
    "ylabel(r'Active Compounds Found (%)', fontsize=tamano)\n",
    "legend(fontsize=tamano, fancybox=True, loc=2).get_frame().set_alpha(0.5)\n",
    "grid()\n",
    "savefig(Nombre + '/' + 'EnrichmentCurveCODE.png')\n",
    "#show()"
   ]
  },
  {
   "cell_type": "code",
   "execution_count": 15,
   "metadata": {
    "collapsed": true
   },
   "outputs": [],
   "source": [
    "finish_mom = time.strftime(\"%c\")"
   ]
  },
  {
   "cell_type": "code",
   "execution_count": 16,
   "metadata": {
    "collapsed": false
   },
   "outputs": [
    {
     "name": "stdout",
     "output_type": "stream",
     "text": [
      "All the information regarding this calculation and its results were saved to directory: Test\n"
     ]
    }
   ],
   "source": [
    "arch = open(Nombre + '/' + Nombre + '.log', \"a\")\n",
    "    \n",
    "arch.write('Job name: ' + Nombre)\n",
    "arch.write('\\n Starting time: ' + str(start_mom))\n",
    "arch.write('\\n Input file: ' + inputfile)\n",
    "arch.write('\\n Number of parameters: ' + str(numParam))\n",
    "arch.write('\\n Number of molecules in the Training Set: ' + str(numTrainMol))\n",
    "arch.write('\\n Number of molecules in the Test Set: ' + str(len(DatosArreg[:,0])-numTrainMol))\n",
    "arch.write('\\n Total molecules imported: ' + str(len(DatosArreg[:,0])))\n",
    "arch.write('\\n Random seed: ' + str(semilla))\n",
    "arch.write('\\n Boolean activity set to column: ' + str(coluAct) + ' (starting from 0)')\n",
    "arch.write('\\n Numeric activity value taken from column: ' + str(coluMIC))\n",
    "arch.write('\\n Calculated activity values writen in column: ' + str(len(DatosArreg[0,:])-1))\n",
    "arch.write('\\n Finish time: ' + str(finish_mom))\n",
    "arch.write('\\n Running time (s): ' + str(abs(time.time()-start_time)))  \n",
    "\n",
    "arch.write('\\n \\n \\n For the Monte Carlo (MC) calculation: ')\n",
    "arch.write('\\n \\n The best parameters found were: ' + str(parametros_sin_error))\n",
    "arch.write('\\n Saved figure ' + Nombre + '/triangle.png contains the corner graphs of the MC run')\n",
    "arch.write('\\n Saved figure ' + Nombre + '/chi_squared.png contains the value of $chi^2$ as a function of the iteration step for one walker')\n",
    "arch.write('\\n Saved figure ' + Nombre + '/chi_squared_log.png contains the value of $log{chi^2}$ as a function of the iteration step for one walker')\n",
    "\n",
    "arch.write('\\n \\n \\n For the Training Set: ')\n",
    "arch.write('\\n \\n The fitting line between experimental and predicted activity had an r^2 of: ' + str(regre_train[2]**2))\n",
    "arch.write('\\n The equation of this line is: PREDICT = ' + str(regre_train[0]) + '*EXPERIMENT + ' + str(regre_train[1]))\n",
    "arch.write('\\n Saved figure ' + Nombre + '/ActTrainSet.png contains the fitting of the predicted activity to the experimental one using an MC method for the Training Set')\n",
    "arch.write('\\n Saved figure ' + Nombre + '/ActTrainSetPredExp.png contains the predicted activities as a function of the experimental ones for the Training Set')\n",
    "\n",
    "\n",
    "arch.write('\\n \\n \\n For the Test Set: ')\n",
    "arch.write('\\n \\n The fitting line between experimental and predicted activity had an r^2 of: ' + str(regre_test[2]**2))\n",
    "arch.write('\\n The equation of this line is: PREDICT = ' + str(regre_test[0]) + '*EXPERIMENT + ' + str(regre_test[1]))\n",
    "arch.write('\\n Saved figure ' + Nombre + '/ActTestSet.png contains the fitting of the predicted activity to the experimental one using an MC method for the Test Set')\n",
    "arch.write('\\n Saved figure ' + Nombre + '/ActTestSetPredExp.png contains the predicted activities as a function of the experimental ones for the Test Set')\n",
    "\n",
    "arch.write('\\n Saved figure ' + Nombre + '/EnrichmentCurveCODE.png contains the enrichment curve of the complete set of molecules when the compounds are sorted according to the CODE function value')\n",
    "\n",
    "arch.close()\n",
    "    \n",
    "msj='All the information regarding this calculation and its results was saved to directory: ' + Nombre\n",
    "print msj"
   ]
  },
  {
   "cell_type": "code",
   "execution_count": null,
   "metadata": {
    "collapsed": true
   },
   "outputs": [],
   "source": []
  }
 ],
 "metadata": {
  "kernelspec": {
   "display_name": "Python 2",
   "language": "python",
   "name": "python2"
  },
  "language_info": {
   "codemirror_mode": {
    "name": "ipython",
    "version": 2
   },
   "file_extension": ".py",
   "mimetype": "text/x-python",
   "name": "python",
   "nbconvert_exporter": "python",
   "pygments_lexer": "ipython2",
   "version": "2.7.11"
  }
 },
 "nbformat": 4,
 "nbformat_minor": 0
}
